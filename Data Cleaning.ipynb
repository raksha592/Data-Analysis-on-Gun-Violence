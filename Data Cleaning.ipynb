{
 "cells": [
  {
   "cell_type": "code",
   "execution_count": 9,
   "metadata": {},
   "outputs": [],
   "source": [
    "import pandas as pd\n",
    "import datetime\n",
    "import pdfplumber\n",
    "from pdfplumber.utils import within_bbox, collate_chars\n",
    "from operator import itemgetter\n",
    "import sys, os\n",
    "\n",
    "COLUMNS = [\n",
    "    \"month\",\n",
    "    \"state\",\n",
    "    \"permit\",\n",
    "    \"permit_recheck\",\n",
    "    \"handgun\",\n",
    "    \"long_gun\",\n",
    "    \"other\",\n",
    "    \"multiple\",\n",
    "    \"admin\",\n",
    "    \"prepawn_handgun\",\n",
    "    \"prepawn_long_gun\",\n",
    "    \"prepawn_other\",\n",
    "    \"redemption_handgun\",\n",
    "    \"redemption_long_gun\",\n",
    "    \"redemption_other\",\n",
    "    \"returned_handgun\",\n",
    "    \"returned_long_gun\",\n",
    "    \"returned_other\",\n",
    "    \"rentals_handgun\",\n",
    "    \"rentals_long_gun\",\n",
    "    \"private_sale_handgun\",\n",
    "    \"private_sale_long_gun\",\n",
    "    \"private_sale_other\",\n",
    "    \"return_to_seller_handgun\",\n",
    "    \"return_to_seller_long_gun\",\n",
    "    \"return_to_seller_other\",\n",
    "    \"totals\"\n",
    "]"
   ]
  },
  {
   "cell_type": "code",
   "execution_count": 10,
   "metadata": {},
   "outputs": [],
   "source": [
    "def parse_month(month_str):\n",
    "    d = datetime.datetime.strptime(month_str, \"%B - %Y\")\n",
    "    return d.strftime(\"%Y-%m\")"
   ]
  },
  {
   "cell_type": "code",
   "execution_count": 11,
   "metadata": {},
   "outputs": [],
   "source": [
    "def validate_data(checks):\n",
    "    try:\n",
    "        assert(len(checks) > 0)\n",
    "    except:\n",
    "        raise Exception(\"No data found.\")\n",
    "\n",
    "    ## Test vertical totals\n",
    "    # [2:] because first two columns are month and state name\n",
    "    for c in COLUMNS[2:]:\n",
    "        v_total = checks[c].iloc[-1]\n",
    "        v_colsum = checks[c].sum()\n",
    "        try:\n",
    "            assert(v_colsum == (v_total * 2))\n",
    "        except:\n",
    "            raise Exception(\"Vertical totals don't match on {0}.\".format(c))\n",
    "\n",
    "    ## Test horizontal totals\n",
    "    h_colsums = checks.fillna(0).sum(axis=1)\n",
    "    h_totals = checks[\"totals\"].fillna(0)\n",
    "    zipped = zip(checks[\"state\"], h_colsums, h_totals)\n",
    "    for state, h_colsum, h_total in zipped:\n",
    "        try:\n",
    "            assert(h_colsum == (h_total * 2))\n",
    "        except:\n",
    "            raise Exception(\"Horizontal totals don't match on {0}.\".format(state))\n"
   ]
  },
  {
   "cell_type": "code",
   "execution_count": 12,
   "metadata": {},
   "outputs": [],
   "source": [
    "def parse_value(x):\n",
    "    if pd.isnull(x) or x == \"\": return None\n",
    "    return int(x.replace(\",\", \"\"))"
   ]
  },
  {
   "cell_type": "code",
   "execution_count": 13,
   "metadata": {},
   "outputs": [],
   "source": [
    "def parse_page(page):\n",
    "    month_crop = page.within_bbox((0, 35, page.width, 65))\n",
    "    month_text = month_crop.extract_text(x_tolerance=2)\n",
    "    month = parse_month(month_text)\n",
    "    sys.stderr.write(\"\\r\" + month)\n",
    "\n",
    "    table_crop = page.crop((0, 80, page.width, 485))\n",
    "\n",
    "    _table = table_crop.extract_table({\n",
    "        \"horizontal_strategy\": \"text\",\n",
    "        \"explicit_vertical_lines\": [\n",
    "            min(map(itemgetter(\"x0\"), table_crop.chars))\n",
    "        ],\n",
    "        \"intersection_tolerance\": 5\n",
    "    })\n",
    "\n",
    "    table = pd.DataFrame([ [ month ] + row for row in _table ])\n",
    "\n",
    "    table.columns = COLUMNS\n",
    "    table[table.columns[2:]] = table[table.columns[2:]].applymap(parse_value)\n",
    "\n",
    "    table.loc[(table[\"state\"] == \"llinois\"), \"state\"] = \"Illinois\"\n",
    "    try: validate_data(table)\n",
    "    except: raise Exception(\"Invalid data for \" + month)\n",
    "\n",
    "    return table\n",
    "\n",
    "#def parse_pdf(file_obj):"
   ]
  },
  {
   "cell_type": "code",
   "execution_count": 14,
   "metadata": {},
   "outputs": [
    {
     "name": "stderr",
     "output_type": "stream",
     "text": [
      "1998-11"
     ]
    }
   ],
   "source": [
    "pdf = pdfplumber.open(\"NICS_Firearm_Checks_-_Month_Year_by_State_Type.pdf\")\n",
    "\n",
    "checks = pd.concat(list(map(parse_page, pdf.pages)))\\\n",
    "        .reset_index(drop=True)\n",
    "\n",
    "checks= checks[checks[\"state\"] != \"Totals\"]\n",
    "\n",
    "\n",
    "#checks = parse_pdf(buf)\n",
    "checks.to_csv(\"out.csv\", index=False, float_format=\"%.0f\")"
   ]
  }
 ],
 "metadata": {
  "kernelspec": {
   "display_name": "Python 3",
   "language": "python",
   "name": "python3"
  },
  "language_info": {
   "codemirror_mode": {
    "name": "ipython",
    "version": 3
   },
   "file_extension": ".py",
   "mimetype": "text/x-python",
   "name": "python",
   "nbconvert_exporter": "python",
   "pygments_lexer": "ipython3",
   "version": "3.6.5"
  }
 },
 "nbformat": 4,
 "nbformat_minor": 2
}
